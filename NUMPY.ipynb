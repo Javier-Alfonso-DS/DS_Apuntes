{
 "cells": [
  {
   "cell_type": "markdown",
   "metadata": {},
   "source": [
    "# NUMPY"
   ]
  },
  {
   "cell_type": "markdown",
   "metadata": {},
   "source": [
    "Lista de métodos:\n",
    "\n",
    "- **numpy.max()**: obtener el valor máximo de un array. https://www.educba.com/numpy-max/\n",
    "- **numpy.mean()**: sirve para calcular la MEDIA de un array https://numpy.org/doc/stable/reference/generated/numpy.mean.html\n",
    "- **numpy.median()**: Sirve para calcular la ME-DIA-NA de un array. https://numpy.org/doc/stable/reference/generated/numpy.median.html\n",
    "- **np.std()**: Desviación estándar.\n",
    "- **np.var()**: Calcula la varianza.\n",
    "- **numpy.arange(n)**: crea un array con la extensión que indiques en n.\n",
    "- **np.sum(x)**: suma todos los valores del array x."
   ]
  },
  {
   "cell_type": "markdown",
   "metadata": {},
   "source": [
    "Numpy es una librería de python que sirve para trabajar con **ARRAYS**"
   ]
  },
  {
   "cell_type": "code",
   "execution_count": 1,
   "metadata": {},
   "outputs": [
    {
     "name": "stdout",
     "output_type": "stream",
     "text": [
      "[1 2 3 4 5]\n",
      "<class 'numpy.ndarray'>\n"
     ]
    }
   ],
   "source": [
    "import numpy as np #importar numpy\n",
    "\n",
    "arr = np.array([1, 2, 3, 4, 5]) #funcion para crear un array\n",
    "\n",
    "print(arr)\n",
    "\n",
    "print(type(arr))"
   ]
  },
  {
   "cell_type": "markdown",
   "metadata": {},
   "source": [
    "- Un array se crea con la función _array()_ y se le pasa una lista, tupla, etc.\n",
    "- El objeto array se llama _ndarray_"
   ]
  },
  {
   "cell_type": "markdown",
   "metadata": {},
   "source": [
    "### DIMENSIONES"
   ]
  },
  {
   "cell_type": "code",
   "execution_count": 25,
   "metadata": {},
   "outputs": [],
   "source": [
    "import numpy as np\n",
    "\n",
    "#array 1-D unidimensional, formado por elementos 0-D\n",
    "arr1 = np.array([1, 2, 3, 4, 5]) \n",
    "\n",
    "#array 2-D bidimensional, formado por elementos 1-D: REPRESENTA UNA MATRIZ\n",
    "a = [1, 2]\n",
    "b = [2, 3]\n",
    "arr2 = np.array([a, b]) \n",
    "\n",
    "#array 3-D tridimensional, formado por elementos 2-D\n",
    "c = [1, 2]\n",
    "arr3 = np.array([[a, b], [b, c]]) "
   ]
  },
  {
   "cell_type": "markdown",
   "metadata": {},
   "source": [
    "**IMPORTANTE:** LOS ARRAYS QUE CONFORMAN LOS ARRAYS BIDIMENSIONALES Y TRIDIMENSIONALES DEBEN SER DE LA MISMA LONGITUD"
   ]
  },
  {
   "cell_type": "code",
   "execution_count": 26,
   "metadata": {},
   "outputs": [
    {
     "name": "stdout",
     "output_type": "stream",
     "text": [
      "[[[[[1 2 3 4]]]]]\n",
      "number of dimensions : 5\n"
     ]
    }
   ],
   "source": [
    "import numpy as np\n",
    "\n",
    "arr = np.array([1, 2, 3, 4], ndmin=5)\n",
    "\n",
    "print(arr)\n",
    "print('number of dimensions :', arr.ndim)"
   ]
  },
  {
   "cell_type": "markdown",
   "metadata": {},
   "source": [
    "In this array the innermost dimension (5th dim) has 4 elements, the 4th dim has 1 element that is the vector, the 3rd dim has 1 element that is the matrix with the vector, the 2nd dim has 1 element that is 3D array and 1st dim has 1 element that is a 4D array."
   ]
  },
  {
   "cell_type": "markdown",
   "metadata": {},
   "source": [
    "## INDEXING"
   ]
  },
  {
   "cell_type": "markdown",
   "metadata": {},
   "source": [
    "### ACCEDIENDO ELEMENTOS ARRAY 2-D / 3-D\n",
    "Para acceder a un elemento de un array bidimensional utilizamos por ejemplo [0, 1], en el que 0 hace referencia a la dimensión y 1 hace referencia al elemento de dicha dimensión al cual queremos acceder.\n",
    "\n",
    "Para un array tridimensional es el mismo proceso. Básicamente vamos atravesando dimensiones: [0, 1, 0]."
   ]
  },
  {
   "cell_type": "code",
   "execution_count": 1,
   "metadata": {},
   "outputs": [
    {
     "ename": "NameError",
     "evalue": "name 'arr2' is not defined",
     "output_type": "error",
     "traceback": [
      "\u001b[1;31m---------------------------------------------------------------------------\u001b[0m",
      "\u001b[1;31mNameError\u001b[0m                                 Traceback (most recent call last)",
      "\u001b[1;32m<ipython-input-1-19538dd5d527>\u001b[0m in \u001b[0;36m<module>\u001b[1;34m\u001b[0m\n\u001b[1;32m----> 1\u001b[1;33m \u001b[0mprint\u001b[0m\u001b[1;33m(\u001b[0m\u001b[1;34m'Array bidimensional: '\u001b[0m\u001b[1;33m,\u001b[0m \u001b[0marr2\u001b[0m\u001b[1;33m[\u001b[0m\u001b[1;36m1\u001b[0m\u001b[1;33m,\u001b[0m \u001b[1;36m0\u001b[0m\u001b[1;33m]\u001b[0m\u001b[1;33m)\u001b[0m\u001b[1;33m\u001b[0m\u001b[1;33m\u001b[0m\u001b[0m\n\u001b[0m\u001b[0;32m      2\u001b[0m \u001b[1;33m\u001b[0m\u001b[0m\n\u001b[0;32m      3\u001b[0m \u001b[0mprint\u001b[0m\u001b[1;33m(\u001b[0m\u001b[1;34m'Primera dimensión del array tridimensional: '\u001b[0m\u001b[1;33m,\u001b[0m \u001b[0marr3\u001b[0m\u001b[1;33m[\u001b[0m\u001b[1;36m0\u001b[0m\u001b[1;33m]\u001b[0m\u001b[1;33m)\u001b[0m\u001b[1;33m\u001b[0m\u001b[1;33m\u001b[0m\u001b[0m\n\u001b[0;32m      4\u001b[0m \u001b[1;33m\u001b[0m\u001b[0m\n\u001b[0;32m      5\u001b[0m \u001b[0mprint\u001b[0m\u001b[1;33m(\u001b[0m\u001b[1;34m'Segunda dimensión del array tridimensional: '\u001b[0m\u001b[1;33m,\u001b[0m \u001b[0marr3\u001b[0m\u001b[1;33m[\u001b[0m\u001b[1;36m0\u001b[0m\u001b[1;33m,\u001b[0m \u001b[1;36m1\u001b[0m\u001b[1;33m]\u001b[0m\u001b[1;33m)\u001b[0m\u001b[1;33m\u001b[0m\u001b[1;33m\u001b[0m\u001b[0m\n",
      "\u001b[1;31mNameError\u001b[0m: name 'arr2' is not defined"
     ]
    }
   ],
   "source": [
    "print('Array bidimensional: ', arr2[1, 0])\n",
    "\n",
    "print('Primera dimensión del array tridimensional: ', arr3[0])\n",
    "\n",
    "print('Segunda dimensión del array tridimensional: ', arr3[0, 1])\n",
    "\n",
    "print('Tercera dimensión del array tridimensional: ', arr3[0, 1, 0])"
   ]
  },
  {
   "cell_type": "markdown",
   "metadata": {},
   "source": [
    "## SLICING"
   ]
  },
  {
   "cell_type": "code",
   "execution_count": 44,
   "metadata": {},
   "outputs": [
    {
     "name": "stdout",
     "output_type": "stream",
     "text": [
      "[3 4 1]\n",
      "[5 4 3 2]\n",
      "[4 6]\n",
      "[[1 4 2]\n",
      " [2 4 6]]\n"
     ]
    }
   ],
   "source": [
    "x = [1, 5, 4, 3, 2, 3]\n",
    "z = [2, 3, 4, 1, 6, 8]\n",
    "\n",
    "arra = np.array([x, z])\n",
    "\n",
    "print(arra[1, 1:4])\n",
    "print(arra[0, -5:-1])\n",
    "print(arra[1, 2::2])\n",
    "print(arra[0:2, ::2]) #también se puede slicear la primera dimensión del array: este ejemplo accede a la dimensión x (índice 0) \n",
    "                        #y a la z (índice 1)"
   ]
  },
  {
   "cell_type": "markdown",
   "metadata": {},
   "source": [
    "## DATA TYPES EN NUMPY\n",
    "\n",
    "NumPy has some extra data types, and refer to data types with one character, like i for integers, u for unsigned integers etc.\n",
    "\n",
    "Below is a list of all data types in NumPy and the characters used to represent them.\n",
    "\n",
    "- i - integer\n",
    "- b - boolean\n",
    "- u - unsigned integer\n",
    "- f - float\n",
    "- c - complex float\n",
    "- m - timedelta\n",
    "- M - datetime\n",
    "- O - object\n",
    "- S - string\n",
    "- U - unicode string\n",
    "- V - fixed chunk of memory for other type ( void )"
   ]
  },
  {
   "cell_type": "code",
   "execution_count": 1,
   "metadata": {},
   "outputs": [
    {
     "name": "stdout",
     "output_type": "stream",
     "text": [
      "int32\n",
      "<U6\n"
     ]
    }
   ],
   "source": [
    "#obtener el tipo de data que hay dentro de un array\n",
    "import numpy as np\n",
    "\n",
    "ints = np.array([1, 2, 3, 4])\n",
    "strs = np.array(['apple', 'banana', 'cherry'])\n",
    "\n",
    "\n",
    "print(ints.dtype)\n",
    "print(strs.dtype)"
   ]
  },
  {
   "cell_type": "markdown",
   "metadata": {},
   "source": [
    "#### Definir el tipo de data esperado en un array"
   ]
  },
  {
   "cell_type": "code",
   "execution_count": 47,
   "metadata": {},
   "outputs": [
    {
     "name": "stdout",
     "output_type": "stream",
     "text": [
      "[b'1' b'2' b'3' b'4']\n",
      "|S1\n"
     ]
    }
   ],
   "source": [
    "arr = np.array([1, 2, 3, 4], dtype='S') #este array no son integers sino strings\n",
    "\n",
    "print(arr)\n",
    "print(arr.dtype)"
   ]
  },
  {
   "cell_type": "markdown",
   "metadata": {},
   "source": [
    "Si los valores que hay dentro del array no pueden convertirse al tipo de dato que nosotros hemos definido se producirá un\n",
    "\n",
    "**ValueError**"
   ]
  },
  {
   "cell_type": "markdown",
   "metadata": {},
   "source": [
    "#### Cambiar el tipo de data de un array ya existente con el método _astype()_\n",
    "\n",
    "- _astype()_ crea una copia del array\n",
    "- Se le pasa como parámetro el tipo de data que quieres"
   ]
  },
  {
   "cell_type": "code",
   "execution_count": 62,
   "metadata": {},
   "outputs": [
    {
     "name": "stdout",
     "output_type": "stream",
     "text": [
      "[1.2 2.3 4.5 4.9]\n",
      "[1 2 4 4]\n",
      "[ True False  True]\n"
     ]
    }
   ],
   "source": [
    "a = np.array([1.2, 2.3, 4.5, 4.9])\n",
    "print(a)\n",
    "\n",
    "#float > integer\n",
    "otroA = a.astype('i')\n",
    "print(otroA)\n",
    "\n",
    "#int > boolean\n",
    "b = np.array([1, 0, 3])\n",
    "unBoolean = b.astype(bool)\n",
    "print(unBoolean)"
   ]
  },
  {
   "cell_type": "markdown",
   "metadata": {},
   "source": [
    "#### COPIA VS VISTA\n",
    "\n",
    "- _.copy()_: Una copia de un array es un array nuevo independiente del original\n",
    "- _.view()_: Una vista del array depende del original y cualquier modificación hecha al array original afectará a la vista\n",
    "\n",
    "_.base_ devuelve None si el array doesn't owns the data, de lo contrario se referirá al objeto original"
   ]
  },
  {
   "cell_type": "code",
   "execution_count": 63,
   "metadata": {},
   "outputs": [
    {
     "name": "stdout",
     "output_type": "stream",
     "text": [
      "None\n",
      "[1 2 3 4 5]\n"
     ]
    }
   ],
   "source": [
    "arr = np.array([1, 2, 3, 4, 5])\n",
    "\n",
    "x = arr.copy()\n",
    "y = arr.view()\n",
    "\n",
    "print(x.base)\n",
    "print(y.base)"
   ]
  },
  {
   "cell_type": "markdown",
   "metadata": {},
   "source": [
    "##### OBTENER EL SHAPE DE UN ARRAY\n",
    "\n",
    "The shape of an array is the number of elements in each dimension."
   ]
  },
  {
   "cell_type": "code",
   "execution_count": 64,
   "metadata": {},
   "outputs": [
    {
     "name": "stdout",
     "output_type": "stream",
     "text": [
      "(2, 4)\n"
     ]
    }
   ],
   "source": [
    "arr = np.array([[1, 2, 3, 4], [5, 6, 7, 8]])\n",
    "\n",
    "print(arr.shape)"
   ]
  },
  {
   "cell_type": "markdown",
   "metadata": {},
   "source": [
    "The example above returns (2, 4), which means that the array has 2 dimensions, and each dimension has 4 elements."
   ]
  },
  {
   "cell_type": "markdown",
   "metadata": {},
   "source": [
    "#### RESHAPING:  _reshape()_\n",
    "\n",
    "By reshaping we can add or remove dimensions or change number of elements in each dimension."
   ]
  },
  {
   "cell_type": "code",
   "execution_count": 65,
   "metadata": {},
   "outputs": [
    {
     "name": "stdout",
     "output_type": "stream",
     "text": [
      "[[ 1  2  3]\n",
      " [ 4  5  6]\n",
      " [ 7  8  9]\n",
      " [10 11 12]]\n"
     ]
    }
   ],
   "source": [
    "arr = np.array([1, 2, 3, 4, 5, 6, 7, 8, 9, 10, 11, 12])\n",
    "\n",
    "newarr = arr.reshape(4, 3)\n",
    "\n",
    "print(newarr)"
   ]
  },
  {
   "cell_type": "markdown",
   "metadata": {},
   "source": [
    "Convert the following 1-D array with 12 elements into a 2-D array.\n",
    "\n",
    "The outermost dimension will have 4 arrays, each with 3 elements:"
   ]
  },
  {
   "cell_type": "code",
   "execution_count": 66,
   "metadata": {},
   "outputs": [
    {
     "name": "stdout",
     "output_type": "stream",
     "text": [
      "[[[ 1  2]\n",
      "  [ 3  4]\n",
      "  [ 5  6]]\n",
      "\n",
      " [[ 7  8]\n",
      "  [ 9 10]\n",
      "  [11 12]]]\n"
     ]
    }
   ],
   "source": [
    "#1 dimensión > 3 dimensiones\n",
    "\n",
    "arr = np.array([1, 2, 3, 4, 5, 6, 7, 8, 9, 10, 11, 12])\n",
    "\n",
    "newarr = arr.reshape(2, 3, 2)\n",
    "\n",
    "print(newarr)"
   ]
  },
  {
   "cell_type": "markdown",
   "metadata": {},
   "source": [
    "IMPORTANTE: EL RESHAPE ES UNA **VISTA** DEL ARRAY"
   ]
  },
  {
   "cell_type": "markdown",
   "metadata": {},
   "source": [
    "##### UNKNOWN DIMENSION\n",
    "\n",
    "You are allowed to have one \"unknown\" dimension.\n",
    "\n",
    "Meaning that you do not have to specify an exact number for one of the dimensions in the reshape method. \n",
    "\n",
    "Pass -1 as the value, and NumPy will calculate this number for you.\n",
    "\n",
    "Nota: no puedes pasar -1 a más de una dimensión"
   ]
  },
  {
   "cell_type": "code",
   "execution_count": 67,
   "metadata": {},
   "outputs": [
    {
     "name": "stdout",
     "output_type": "stream",
     "text": [
      "[[[1 2]\n",
      "  [3 4]]\n",
      "\n",
      " [[5 6]\n",
      "  [7 8]]]\n"
     ]
    }
   ],
   "source": [
    "arr = np.array([1, 2, 3, 4, 5, 6, 7, 8])\n",
    "\n",
    "newarr = arr.reshape(2, 2, -1)\n",
    "\n",
    "print(newarr)"
   ]
  },
  {
   "cell_type": "markdown",
   "metadata": {},
   "source": [
    "##### FLATTENING ARRAYS: convertir un array multidimensional a una sola dimensión\n",
    "\n",
    "_reshape(-1)_"
   ]
  },
  {
   "cell_type": "code",
   "execution_count": 68,
   "metadata": {},
   "outputs": [
    {
     "name": "stdout",
     "output_type": "stream",
     "text": [
      "[1 2 3 4 5 6]\n"
     ]
    }
   ],
   "source": [
    "arr = np.array([[1, 2, 3], [4, 5, 6]])\n",
    "\n",
    "newarr = arr.reshape(-1)\n",
    "\n",
    "print(newarr)"
   ]
  },
  {
   "cell_type": "markdown",
   "metadata": {},
   "source": [
    "#### ITERAR\n",
    "\n",
    "- Para iterar a través de los arrays se puede usar un for loop; para iterar a través de todos los elementos de cada dimensión se añade un for loop por cada dimensión"
   ]
  },
  {
   "cell_type": "code",
   "execution_count": 4,
   "metadata": {},
   "outputs": [
    {
     "name": "stdout",
     "output_type": "stream",
     "text": [
      "Iteración simple del array multidimensional: \n",
      "[[1 2 3]\n",
      " [4 5 6]]\n",
      "[[ 7  8  9]\n",
      " [10 11 12]]\n",
      "Iteración a través de las dimensiones para recorrer todos los elementos: \n",
      "1\n",
      "2\n",
      "3\n",
      "4\n",
      "5\n",
      "6\n",
      "7\n",
      "8\n",
      "9\n",
      "10\n",
      "11\n",
      "12\n"
     ]
    }
   ],
   "source": [
    "import numpy as np\n",
    "arr = np.array([[[1, 2, 3], [4, 5, 6]], [[7, 8, 9], [10, 11, 12]]])\n",
    "\n",
    "print(\"Iteración simple del array multidimensional: \")\n",
    "for x in arr:\n",
    "  print(x)\n",
    "\n",
    "print(\"Iteración a través de las dimensiones para recorrer todos los elementos: \")\n",
    "for x in arr:\n",
    "  for y in x:\n",
    "    for z in y:\n",
    "      print(z)"
   ]
  },
  {
   "cell_type": "markdown",
   "metadata": {},
   "source": [
    "##### _nditer()_"
   ]
  },
  {
   "cell_type": "code",
   "execution_count": 9,
   "metadata": {},
   "outputs": [
    {
     "name": "stdout",
     "output_type": "stream",
     "text": [
      "Primera iteracion: \n",
      "1\n",
      "2\n",
      "3\n",
      "4\n",
      "5\n",
      "6\n",
      "7\n",
      "8\n",
      "Segunda iteracion: \n",
      "1\n",
      "3\n",
      "5\n",
      "7\n"
     ]
    }
   ],
   "source": [
    "print(\"Primera iteracion: \")\n",
    "arr = np.array([[1, 2, 3, 4], [5, 6, 7, 8]])\n",
    "for x in np.nditer(arr):\n",
    "  print(x)\n",
    "print(\"Segunda iteracion: \")\n",
    "for x in np.nditer(arr[:, ::2]):\n",
    "  print(x)"
   ]
  },
  {
   "cell_type": "markdown",
   "metadata": {},
   "source": [
    "We can use **op_dtypes** argument and pass it the expected datatype to change the datatype of elements while iterating.\n",
    "\n",
    "NumPy does not change the data type of the element in-place (where the element is in array) so it needs some other space to perform this action, that extra space is called buffer, and in order to enable it in nditer() we pass **flags=['buffered'].**"
   ]
  },
  {
   "cell_type": "code",
   "execution_count": 6,
   "metadata": {},
   "outputs": [
    {
     "name": "stdout",
     "output_type": "stream",
     "text": [
      "b'1'\n",
      "b'2'\n",
      "b'3'\n",
      "b'4'\n",
      "b'5'\n",
      "b'6'\n",
      "b'7'\n",
      "b'8'\n",
      "b'9'\n",
      "b'10'\n",
      "b'11'\n",
      "b'12'\n"
     ]
    }
   ],
   "source": [
    "for x in np.nditer(arr, flags=['buffered'], op_dtypes=['S']):\n",
    "  print(x)"
   ]
  },
  {
   "cell_type": "markdown",
   "metadata": {},
   "source": [
    "#### _ndenumerate()_\n",
    "\n",
    "Sirve para enumerar las iteraciones del bucle, es decir, para obtener el índice de cada elemento."
   ]
  },
  {
   "cell_type": "code",
   "execution_count": 16,
   "metadata": {},
   "outputs": [
    {
     "name": "stdout",
     "output_type": "stream",
     "text": [
      "(0,) 1\n",
      "(1,) 2\n",
      "(2,) 3\n",
      "(0, 0) 1\n",
      "(0, 1) 2\n",
      "(0, 2) 3\n",
      "(0, 3) 4\n",
      "(1, 0) 5\n",
      "(1, 1) 6\n",
      "(1, 2) 7\n",
      "(1, 3) 8\n"
     ]
    }
   ],
   "source": [
    "#Una dimensión\n",
    "arr = np.array([1, 2, 3])\n",
    "\n",
    "for idx, x in np.ndenumerate(arr):\n",
    "    print(idx, x)\n",
    "\n",
    "#2 dimensiones\n",
    "arr = np.array([[1, 2, 3, 4], [5, 6, 7, 8]])\n",
    "\n",
    "for idx, x in np.ndenumerate(arr):\n",
    "  print(idx, x)"
   ]
  },
  {
   "cell_type": "markdown",
   "metadata": {},
   "source": [
    "### ARRAY JOINING"
   ]
  },
  {
   "attachments": {
    "image-4.png": {
     "image/png": "[encoded data removed]"
    },
    "image-5.png": {
     "image/png": "[encoded data removed]"
    },
    "image.png": {
     "image/png": "[encoded data removed]"
    }
   },
   "cell_type": "markdown",
   "metadata": {},
   "source": [
    "### AXES \n",
    "\n",
    "https://www.sharpsightlabs.com/blog/numpy-axes-explained/\n",
    "\n",
    "\n",
    "Un array de una dimensión es un vector, un array de dos dimensiones es una matriz con filas y columnas, o, mejor dicho, con dos axis.\n",
    "\n",
    "![image.png](attachment:image.png) \n",
    "\n",
    "\n",
    "Un array bidimensional [[3, 5, 4, 8], [6, 4, 8, 0]], se vería así:\n",
    "\n",
    "![image-4.png](attachment:image-4.png)\n",
    "\n",
    "\n",
    "CUIDADO: no muy accurate: \n",
    "Un array unidimensional [3, 5, 4, 8], se vería así:\n",
    "\n",
    "![image-5.png](attachment:image-5.png)\n",
    "\n",
    "(NOTA: en realidad existiría un único axis 0, puesto que es un vector)"
   ]
  },
  {
   "cell_type": "markdown",
   "metadata": {},
   "source": [
    "#### _concatenate()_"
   ]
  },
  {
   "cell_type": "code",
   "execution_count": 3,
   "metadata": {},
   "outputs": [
    {
     "name": "stdout",
     "output_type": "stream",
     "text": [
      "[[3 5 4 8]\n",
      " [6 4 8 0]\n",
      " [6 6 6 6]\n",
      " [2 2 2 2]]\n",
      "\n",
      "[[3 5 4 8 6 6 6 6]\n",
      " [6 4 8 0 2 2 2 2]]\n"
     ]
    }
   ],
   "source": [
    "import numpy as np\n",
    "\n",
    "arr1 = np.array([[3, 5, 4, 8], [6, 4, 8, 0]])\n",
    "\n",
    "arr2 = np.array([[6, 6, 6, 6], [2, 2, 2, 2]])\n",
    "\n",
    "arr = np.concatenate((arr1, arr2))\n",
    "arra = np.concatenate((arr1, arr2), axis=1)\n",
    "\n",
    "print(arr)\n",
    "print(\"\")\n",
    "print(arra)"
   ]
  },
  {
   "attachments": {
    "image-2.png": {
     "image/png": "[encoded data removed]"
    },
    "image.png": {
     "image/png": "[encoded data removed]"
    }
   },
   "cell_type": "markdown",
   "metadata": {},
   "source": [
    "Tenemos dos arrays bidimensionales. \n",
    "- En la primera concatenación (arr) los dos arrays se han concatenado en un solo array a partir del axis por defecto: axis 0.\n",
    "- En la segunda concatenación (arra) los dos arrays han sido concatenados a partir del axis 1. \n",
    "\n",
    "Veamos cómo funciona:\n",
    "\n",
    "Concatenación axis 0:\n",
    "![image-2.png](attachment:image-2.png)\n",
    "\n",
    "Concatenación axis 1:\n",
    "![image.png](attachment:image.png)"
   ]
  },
  {
   "cell_type": "markdown",
   "metadata": {},
   "source": [
    "#### _stack()_\n",
    "\n",
    "La función _stack()_ es como concatenar pero lo que hace es poner un array encima de otro, no los \"concatena\".\n",
    "\n",
    "- _hstack()_ concatena a través de las filas\n",
    "- _vstack()_ concatena a través de columnas\n",
    "- _dstack()_ concatena a través de la altura/profundidad"
   ]
  },
  {
   "cell_type": "code",
   "execution_count": 6,
   "metadata": {},
   "outputs": [
    {
     "name": "stdout",
     "output_type": "stream",
     "text": [
      "Stack():\n",
      "[[1 4]\n",
      " [2 5]\n",
      " [3 6]]\n",
      "\n",
      "hstack():\n",
      "[1 2 3 4 5 6]\n",
      "\n",
      "vstack():\n",
      "[[1 2 3]\n",
      " [4 5 6]]\n",
      "\n",
      "dstack():\n",
      "[[[1 4]\n",
      "  [2 5]\n",
      "  [3 6]]]\n"
     ]
    }
   ],
   "source": [
    "arr1 = np.array([1, 2, 3])\n",
    "\n",
    "arr2 = np.array([4, 5, 6])\n",
    "\n",
    "arr_a = np.stack((arr1, arr2), axis=1)\n",
    "arr_b = np.hstack((arr1, arr2))\n",
    "arr_c = np.vstack((arr1, arr2))\n",
    "arr_d = np.dstack((arr1, arr2))\n",
    "\n",
    "print(\"Stack():\")\n",
    "print(arr_a)\n",
    "print(\"\")\n",
    "print(\"hstack():\")\n",
    "print(arr_b)\n",
    "print(\"\")\n",
    "print(\"vstack():\")\n",
    "print(arr_c)\n",
    "print(\"\")\n",
    "print(\"dstack():\")\n",
    "print(arr_d)"
   ]
  },
  {
   "attachments": {
    "image-2.png": {
     "image/png": "[encoded data removed]"
    },
    "image-3.png": {
     "image/png": "[encoded data removed]"
    },
    "image.png": {
     "image/png": "[encoded data removed]"
    }
   },
   "cell_type": "markdown",
   "metadata": {},
   "source": [
    "Esto es lo que está pasando en stack() :\n",
    "![image.png](attachment:image.png)\n",
    "\n",
    "Esto es lo que está pasando en hstack():\n",
    "![image-2.png](attachment:image-2.png)\n",
    "\n",
    "Esto es lo que está pasando en vstack():\n",
    "![image-3.png](attachment:image-3.png)"
   ]
  },
  {
   "cell_type": "markdown",
   "metadata": {},
   "source": [
    "#### _array_split()_\n",
    "\n",
    "Lo contrario al joining: split divide un array en múltiples arrays."
   ]
  },
  {
   "cell_type": "code",
   "execution_count": 5,
   "metadata": {},
   "outputs": [
    {
     "name": "stdout",
     "output_type": "stream",
     "text": [
      "[array([1, 2]), array([3, 4]), array([5, 6])]\n",
      "\n",
      "[1 2]\n",
      "[3 4]\n",
      "[5 6]\n",
      "\n",
      "[array([1, 2]), array([3, 4]), array([5]), array([6])]\n"
     ]
    }
   ],
   "source": [
    "import numpy as np\n",
    "arr = np.array([1, 2, 3, 4, 5, 6])\n",
    "\n",
    "newarr = np.array_split(arr, 3)\n",
    "\n",
    "#el resultado es un array que contiene cada uno de los arrays divididos\n",
    "print(newarr)\n",
    "print(\"\")\n",
    "\n",
    "#acceder a los arrays divididos\n",
    "print(newarr[0])\n",
    "print(newarr[1])\n",
    "print(newarr[2])\n",
    "print(\"\")\n",
    "\n",
    "#If the array has less elements than required, it will adjust from the end accordingly.\n",
    "newarr2 = np.array_split(arr, 4)\n",
    "print(newarr2)"
   ]
  },
  {
   "cell_type": "code",
   "execution_count": 24,
   "metadata": {},
   "outputs": [
    {
     "name": "stdout",
     "output_type": "stream",
     "text": [
      "Array dividido por el axis 0: \n",
      " [array([[1, 2],\n",
      "       [3, 4]]), array([[5, 6],\n",
      "       [7, 8]]), array([[ 9, 10],\n",
      "       [11, 12]])]\n",
      "\n",
      "Array dividido axis 1: \n",
      " [array([[ 1],\n",
      "       [ 3],\n",
      "       [ 5],\n",
      "       [ 7],\n",
      "       [ 9],\n",
      "       [11]]), array([[ 2],\n",
      "       [ 4],\n",
      "       [ 6],\n",
      "       [ 8],\n",
      "       [10],\n",
      "       [12]])]\n",
      "\n",
      " Es lo mismo: \n",
      " [array([[ 1],\n",
      "       [ 3],\n",
      "       [ 5],\n",
      "       [ 7],\n",
      "       [ 9],\n",
      "       [11]]), array([[ 2],\n",
      "       [ 4],\n",
      "       [ 6],\n",
      "       [ 8],\n",
      "       [10],\n",
      "       [12]])]\n"
     ]
    }
   ],
   "source": [
    "#splitting 2-D arrays\n",
    "\n",
    "import numpy as np\n",
    "\n",
    "arr = np.array([[1, 2], [3, 4], [5, 6], [7, 8], [9, 10], [11, 12]]) #6 filas, 2 columnas (dos dimensiones: matriz)\n",
    "\n",
    "newarr = np.array_split(arr, 3) #devuelve 3 arrays de DOS DIMENSIONES\n",
    "print(\"Array dividido por el axis 0: \\n\", newarr)\n",
    "\n",
    "#también se puede dividir un array bidimensional por el axis 1!\n",
    "newarr2 = np.array_split(arr, 2, axis=1)\n",
    "print(\"\\nArray dividido axis 1: \\n\", newarr2)\n",
    "\n",
    "#que es lo mismo que hsplit() (opuesto a hstack)\n",
    "otroMas = np.hsplit(arr, 2)\n",
    "print(\"\\n Es lo mismo: \\n\", otroMas)"
   ]
  },
  {
   "cell_type": "markdown",
   "metadata": {},
   "source": [
    "NOTA: También tenemos vsplit() y dsplit()."
   ]
  },
  {
   "cell_type": "markdown",
   "metadata": {},
   "source": [
    "### BUSCAR EN ARRAYS\n",
    "\n",
    "\n",
    "#### _where()_\n",
    "\n",
    "- Puedes buscar en un array un valor y te devuelve una tupla con los índices donde haya hecho match.\n",
    "\n",
    "#### _searchsorted()_\n",
    "\n",
    "- Funciona solamente con arrays ordenados.\n",
    "- Tu le das un valor, realiza una búsqueda binaria en el array y te devuelve el índice en el que el valor aportado debería ser insertado para mantener el orden del array.\n",
    "- The method starts the search from the left and returns the first index where the number 7 is no longer larger than the next value.\n",
    "- Puedes utilizar **side='right'** para hacer la búsqueda de derecha a izquierda y que devuelva la posición por la derecha, ES DECIR: en el caso del 7, como ya hay otro 7 en el array, lo puedes situar a su izquierda o derecha sin que el orden se vea perturbado, para situarlo a la derecha (indice 2) -en lugar de la izquierda (indice 1)- utilizamos esto.\n",
    "- Para hacer searchsorted de más de un valor, pasa un array con los valores que quieres buscar."
   ]
  },
  {
   "cell_type": "code",
   "execution_count": 30,
   "metadata": {},
   "outputs": [
    {
     "name": "stdout",
     "output_type": "stream",
     "text": [
      "(array([3, 5, 6], dtype=int64),) \n",
      " \n",
      "Esta tupla significa que el valor 4 está presente en los índices 3, 5 y 6 del array.\n"
     ]
    }
   ],
   "source": [
    "import numpy as np\n",
    "\n",
    "#WHERE()\n",
    "arr = np.array([1, 2, 3, 4, 5, 4, 4])\n",
    "\n",
    "x = np.where(arr == 4)\n",
    "\n",
    "print(x, \"\\n \\nEsta tupla significa que el valor 4 está presente en los índices 3, 5 y 6 del array.\")"
   ]
  },
  {
   "cell_type": "code",
   "execution_count": 35,
   "metadata": {},
   "outputs": [
    {
     "name": "stdout",
     "output_type": "stream",
     "text": [
      "(Buscando desde la izquierda) El valor 7 debería ser insertado en el índice:  1\n",
      "(Buscando desde la derecha) El valor 7 debería ser insertado en el índice:  2\n",
      "Índices para los valores 2, 4, 8:  [0 0 2]\n"
     ]
    }
   ],
   "source": [
    "#SEARCHSORTED()\n",
    "\n",
    "arr = np.array([6, 7, 8, 9])\n",
    "\n",
    "x = np.searchsorted(arr, 7)\n",
    "\n",
    "print(\"(Buscando desde la izquierda) El valor 7 debería ser insertado en el índice: \", x)\n",
    "\n",
    "y = np.searchsorted(arr, 7, side='right')\n",
    "\n",
    "print(\"(Buscando desde la derecha) El valor 7 debería ser insertado en el índice: \", y)\n",
    "\n",
    "z = np.searchsorted(arr, [2, 4, 8])\n",
    "print(\"Índices para los valores 2, 4, 8: \", z)"
   ]
  },
  {
   "cell_type": "markdown",
   "metadata": {},
   "source": [
    "### ORDENAR ARRAYS: sort()\n",
    "\n",
    "- La ordenación puede operar numéricamente o alfabéticamente, en orden ascendente o descendente.\n",
    "- El método _sort()_ devuelve una COPIA."
   ]
  },
  {
   "cell_type": "code",
   "execution_count": 37,
   "metadata": {},
   "outputs": [
    {
     "name": "stdout",
     "output_type": "stream",
     "text": [
      "[0 1 2 3]\n",
      "['apple' 'banana' 'cherry']\n",
      "[False  True  True]\n",
      "[[2 3 4]\n",
      " [0 1 5]]\n"
     ]
    }
   ],
   "source": [
    "import numpy as np\n",
    "\n",
    "#números\n",
    "arr1 = np.array([3, 2, 0, 1])\n",
    "\n",
    "print(np.sort(arr1))\n",
    "\n",
    "#strings\n",
    "arr2 = np.array(['banana', 'cherry', 'apple'])\n",
    "\n",
    "print(np.sort(arr2))\n",
    "\n",
    "#booleans\n",
    "arr3 = np.array([True, False, True])\n",
    "\n",
    "print(np.sort(arr3))\n",
    "\n",
    "#arrays bidimensionales\n",
    "arr4 = np.array([[3, 2, 4], [5, 0, 1]])\n",
    "\n",
    "print(np.sort(arr4))"
   ]
  },
  {
   "cell_type": "markdown",
   "metadata": {},
   "source": [
    "### FILTRAR ARRAYS\n",
    "\n",
    "- Crea un nuevo array a partir del filtrage de otro array.\n",
    "- Se realiza a partir de una lista de booleans, que filtrará a partir de los índices: los valores que correspondan en su índice a un valor True en el mismo índice serán incluidos, los valores que correspondan a False serán excluidos."
   ]
  },
  {
   "cell_type": "code",
   "execution_count": 38,
   "metadata": {},
   "outputs": [
    {
     "name": "stdout",
     "output_type": "stream",
     "text": [
      "[41 43]\n"
     ]
    }
   ],
   "source": [
    "import numpy as np\n",
    "\n",
    "arr = np.array([41, 42, 43, 44])\n",
    "\n",
    "x = [True, False, True, False]\n",
    "\n",
    "newarr = arr[x]\n",
    "\n",
    "print(newarr)"
   ]
  },
  {
   "cell_type": "markdown",
   "metadata": {},
   "source": [
    "**Normalmente se utiliza creando un filtro basado en condiciones:**"
   ]
  },
  {
   "cell_type": "code",
   "execution_count": 39,
   "metadata": {},
   "outputs": [
    {
     "name": "stdout",
     "output_type": "stream",
     "text": [
      "[False, False, True, True]\n",
      "[43 44]\n"
     ]
    }
   ],
   "source": [
    "arr = np.array([41, 42, 43, 44])\n",
    "\n",
    "# Create an empty list\n",
    "filter_arr = []\n",
    "\n",
    "# go through each element in arr\n",
    "for element in arr:\n",
    "  # if the element is higher than 42, set the value to True, otherwise False:\n",
    "  if element > 42:\n",
    "    filter_arr.append(True)\n",
    "  else:\n",
    "    filter_arr.append(False)\n",
    "\n",
    "newarr = arr[filter_arr]\n",
    "\n",
    "print(filter_arr)\n",
    "print(newarr)"
   ]
  },
  {
   "cell_type": "markdown",
   "metadata": {},
   "source": [
    "**Hay una forma más sencilla de hacer esto:**"
   ]
  },
  {
   "cell_type": "code",
   "execution_count": 40,
   "metadata": {},
   "outputs": [
    {
     "name": "stdout",
     "output_type": "stream",
     "text": [
      "[False False  True  True]\n",
      "[43 44]\n"
     ]
    }
   ],
   "source": [
    "#Se asigna una condición a una variable y se pasa dicha variable como filtro\n",
    "filter_arr = arr > 42\n",
    "\n",
    "newarr = arr[filter_arr]\n",
    "\n",
    "print(filter_arr)\n",
    "print(newarr)"
   ]
  },
  {
   "cell_type": "markdown",
   "metadata": {},
   "source": [
    "## RANDOM \n",
    "(pseudo)\n",
    "\n",
    "- random.randint()\n",
    "- random.rand()"
   ]
  },
  {
   "cell_type": "code",
   "execution_count": 41,
   "metadata": {},
   "outputs": [],
   "source": [
    "from numpy import random\n",
    "\n",
    "#Generate a random integer from 0 to 100\n",
    "x = random.randint(100)\n",
    "\n",
    "#Generate a random float from 0 to 1\n",
    "x = random.rand()\n"
   ]
  },
  {
   "cell_type": "markdown",
   "metadata": {},
   "source": [
    "### GENERAR ARRAYS RANDOM\n",
    "\n",
    "- The _randint()_ method takes a **size parameter** where you can specify the shape of an array."
   ]
  },
  {
   "cell_type": "code",
   "execution_count": 1,
   "metadata": {},
   "outputs": [
    {
     "name": "stdout",
     "output_type": "stream",
     "text": [
      "[62 21  9  8 77]\n"
     ]
    }
   ],
   "source": [
    "from numpy import random\n",
    "\n",
    "#genera un array unidimensional de 5 numeros del 0 al 100\n",
    "x=random.randint(100, size=(5)) \n",
    "\n",
    "print(x)"
   ]
  },
  {
   "cell_type": "code",
   "execution_count": 2,
   "metadata": {},
   "outputs": [
    {
     "name": "stdout",
     "output_type": "stream",
     "text": [
      "[[79 16 64  1 49]\n",
      " [31  7 92 10 53]\n",
      " [75 13 25 24 82]]\n"
     ]
    }
   ],
   "source": [
    "#genera un array BIDIMENSIONAL de 3 filas, cada una con 5 números del 0 al 100\n",
    "x = random.randint(100, size=(3, 5))\n",
    "\n",
    "print(x)"
   ]
  },
  {
   "cell_type": "markdown",
   "metadata": {},
   "source": [
    "- The _rand()_ method also allows you to specify the **shape of the array**."
   ]
  },
  {
   "cell_type": "code",
   "execution_count": 6,
   "metadata": {},
   "outputs": [
    {
     "name": "stdout",
     "output_type": "stream",
     "text": [
      "Un array unidimensional: \n",
      " [0.49120419 0.9236732  0.88412867 0.33451445 0.40789125] \n",
      "\n",
      "Un array bidimensional: \n",
      " [[0.00643196 0.24319795 0.19486636 0.25428688 0.87720035]\n",
      " [0.18699581 0.06136688 0.90205468 0.28471377 0.65140111]\n",
      " [0.57800026 0.51224985 0.95251358 0.59404643 0.89950663]] \n",
      "\n"
     ]
    }
   ],
   "source": [
    "from numpy import random\n",
    "\n",
    "#genera un array UNIDIMENSIONAL con 5 floats\n",
    "x = random.rand(5)\n",
    "\n",
    "print(\"Un array unidimensional: \\n\", x, \"\\n\")\n",
    "\n",
    "#genera un array BIDIMENSIONAL de 3 filas, cada una con 5 floats\n",
    "z = random.rand(3, 5)\n",
    "\n",
    "print(\"Un array bidimensional: \\n\", z, \"\\n\")"
   ]
  },
  {
   "cell_type": "markdown",
   "metadata": {},
   "source": [
    "### ELEGIR UN VALOR ALEATORIO ENTRE UN ARRAY DE VALORES\n",
    "\n",
    "- The _choice()_ method takes an array as a parameter and randomly returns one of the values."
   ]
  },
  {
   "cell_type": "code",
   "execution_count": 7,
   "metadata": {},
   "outputs": [
    {
     "name": "stdout",
     "output_type": "stream",
     "text": [
      "3\n"
     ]
    }
   ],
   "source": [
    "from numpy import random\n",
    "\n",
    "x = random.choice([3, 5, 7, 9])\n",
    "\n",
    "print(x)"
   ]
  },
  {
   "cell_type": "markdown",
   "metadata": {},
   "source": [
    "- The _choice()_ method also allows you to return an array of values.\n",
    "- Add a **size parameter** to specify the **shape** of the array."
   ]
  },
  {
   "cell_type": "code",
   "execution_count": 8,
   "metadata": {},
   "outputs": [
    {
     "name": "stdout",
     "output_type": "stream",
     "text": [
      "[[9 9 5 7 3]\n",
      " [3 7 7 5 9]\n",
      " [5 9 7 3 9]]\n"
     ]
    }
   ],
   "source": [
    "#crea un array BIDIMENSIONAL de 3 filas de 5 valores aleatorios escogidos a partir de [3, 5, 7, 9]\n",
    "x = random.choice([3, 5, 7, 9], size=(3, 5))\n",
    "\n",
    "print(x)"
   ]
  },
  {
   "cell_type": "markdown",
   "metadata": {},
   "source": [
    "## RANDOM DATA DISTRIBUTION\n",
    "\n",
    "- Podemos generar números random definiendo las probabilidades de cada valor. \n",
    "- La probabilidad de cada valor estará entre 0 y 1 (0 significa que nunca ocurrirá y 1 que siempre ocurrirá)"
   ]
  },
  {
   "cell_type": "code",
   "execution_count": 1,
   "metadata": {},
   "outputs": [
    {
     "name": "stdout",
     "output_type": "stream",
     "text": [
      "[5 3 3 7 7 7 5 7 5 5 3 7 7 7 5 5 7 5 5 7 5 5 7 5 5 7 7 7 7 7 7 7 5 7 5 7 5\n",
      " 7 7 7 7 5 7 7 5 7 7 5 7 5 5 7 5 7 7 7 3 7 7 7 7 5 7 7 3 7 5 7 7 7 7 7 5 7\n",
      " 7 7 7 3 7 7 7 3 7 5 5 7 3 7 7 7 5 7 7 3 7 7 7 7 7 7]\n"
     ]
    }
   ],
   "source": [
    "from numpy import random\n",
    "\n",
    "x = random.choice([3, 5, 7, 9], p=[0.1, 0.3, 0.6, 0.0], size=(100))\n",
    "\n",
    "print(x)"
   ]
  },
  {
   "cell_type": "markdown",
   "metadata": {},
   "source": [
    "- Generate a 1-D array containing 100 values, where each value has to be 3, 5, 7 or 9.\n",
    "- The probability for the value to be 3 is set to be 0.1\n",
    "- The probability for the value to be 5 is set to be 0.3\n",
    "- The probability for the value to be 7 is set to be 0.6\n",
    "- The probability for the value to be 9 is set to be 0\n",
    "\n",
    "**Nota: la probabilidad total de los valores debería ser 1.**"
   ]
  },
  {
   "cell_type": "code",
   "execution_count": 2,
   "metadata": {},
   "outputs": [
    {
     "name": "stdout",
     "output_type": "stream",
     "text": [
      "[[7 5 7 5 7]\n",
      " [7 5 7 3 7]\n",
      " [5 5 3 7 5]]\n"
     ]
    }
   ],
   "source": [
    "#en 2 DIMENSIONES\n",
    "\n",
    "x = random.choice([3, 5, 7, 9], p=[0.1, 0.3, 0.6, 0.0], size=(3, 5))\n",
    "\n",
    "print(x)"
   ]
  },
  {
   "cell_type": "markdown",
   "metadata": {},
   "source": [
    "## RANDOM PERMUTATIONS\n",
    "\n",
    "- _shuffle()_ cambia la posición de los valores de un array // **Nota: modifica el array original**\n",
    "- _permutation()_ realiza la misma acción pero **devuelve un re-arranged array, dejando el original intacto**"
   ]
  },
  {
   "cell_type": "code",
   "execution_count": 6,
   "metadata": {},
   "outputs": [
    {
     "name": "stdout",
     "output_type": "stream",
     "text": [
      "Permutación:  [5 4 2 3 1]\n",
      "Array original:  [1 2 3 4 5]\n",
      "Suffle:  [3 4 5 2 1]\n"
     ]
    }
   ],
   "source": [
    "from numpy import random\n",
    "import numpy as np\n",
    "\n",
    "arr = np.array([1, 2, 3, 4, 5])\n",
    "\n",
    "print(\"Permutación: \", random.permutation(arr))\n",
    "print(\"Array original: \", arr) #se imprime el array original porque la permutación no afecta al original\n",
    "\n",
    "random.shuffle(arr)\n",
    "print(\"Suffle: \", arr) #se ha suffleado el array original"
   ]
  },
  {
   "cell_type": "markdown",
   "metadata": {},
   "source": [
    "## SEABORN MODULE\n",
    "\n",
    "https://www.w3schools.com/python/numpy_random_seaborn.asp (para ver cómo descargarlo y toda la info)\n",
    "\n",
    "- Es una librería que utiliza matplotlib por debajo\n",
    "- Se utiliza para representar un gráfico de una distribución aleatoria"
   ]
  },
  {
   "cell_type": "markdown",
   "metadata": {},
   "source": [
    "### DISTPLOTS\n",
    "\n",
    "Distplot stands for distribution plot, it takes as input an array and plots a curve corresponding to the distribution of points in the array."
   ]
  },
  {
   "cell_type": "code",
   "execution_count": 7,
   "metadata": {},
   "outputs": [
    {
     "name": "stderr",
     "output_type": "stream",
     "text": [
      "Matplotlib is building the font cache; this may take a moment.\n"
     ]
    }
   ],
   "source": [
    "#qué importar para poder utilizar seaborn:\n",
    "\n",
    "import matplotlib.pyplot as plt\n",
    "import seaborn as sns"
   ]
  },
  {
   "cell_type": "code",
   "execution_count": 12,
   "metadata": {},
   "outputs": [
    {
     "name": "stderr",
     "output_type": "stream",
     "text": [
      "C:\\Users\\elgab\\anaconda3\\lib\\site-packages\\seaborn\\distributions.py:2551: FutureWarning: `distplot` is a deprecated function and will be removed in a future version. Please adapt your code to use either `displot` (a figure-level function with similar flexibility) or `histplot` (an axes-level function for histograms).\n",
      "  warnings.warn(msg, FutureWarning)\n"
     ]
    },
    {
     "data": {
      "image/png": "[encoded data removed]",
      "text/plain": [
       "<Figure size 432x288 with 1 Axes>"
      ]
     },
     "metadata": {
      "needs_background": "light"
     },
     "output_type": "display_data"
    }
   ],
   "source": [
    "sns.distplot([0, 1, 2, 3, 4, 5])\n",
    "\n",
    "plt.show()"
   ]
  },
  {
   "cell_type": "code",
   "execution_count": 3,
   "metadata": {},
   "outputs": [
    {
     "name": "stderr",
     "output_type": "stream",
     "text": [
      "C:\\Users\\elgab\\anaconda3\\lib\\site-packages\\seaborn\\distributions.py:2551: FutureWarning: `distplot` is a deprecated function and will be removed in a future version. Please adapt your code to use either `displot` (a figure-level function with similar flexibility) or `kdeplot` (an axes-level function for kernel density plots).\n",
      "  warnings.warn(msg, FutureWarning)\n"
     ]
    },
    {
     "data": {
      "image/png": "[encoded data removed]",
      "text/plain": [
       "<Figure size 432x288 with 1 Axes>"
      ]
     },
     "metadata": {
      "needs_background": "light"
     },
     "output_type": "display_data"
    }
   ],
   "source": [
    "import matplotlib.pyplot as plt\n",
    "import seaborn as sns\n",
    "sns.distplot([0, 1, 2, 3, 4, 5], hist=False) #sin historiograma\n",
    "\n",
    "plt.show()"
   ]
  },
  {
   "cell_type": "markdown",
   "metadata": {},
   "source": [
    "### _RANDOM.NORMAL()_\n",
    "\n",
    "Sirve para obtener una distribución normal random. Tiene 3 parámetros:\n",
    "\n",
    "- loc: la media, donde se encuentra el pico.\n",
    "- scale: la desviación\n",
    "- size: la forma del array devuelto"
   ]
  },
  {
   "cell_type": "code",
   "execution_count": 4,
   "metadata": {},
   "outputs": [
    {
     "name": "stdout",
     "output_type": "stream",
     "text": [
      "[[ 0.98055804 -0.2696866  -3.3947527 ]\n",
      " [ 2.25262312  1.08449944  2.41488347]]\n"
     ]
    }
   ],
   "source": [
    "from numpy import random\n",
    "\n",
    "x = random.normal(loc=1, scale=2, size=(2, 3))\n",
    "\n",
    "print(x)"
   ]
  },
  {
   "cell_type": "markdown",
   "metadata": {},
   "source": [
    "Visualización:"
   ]
  },
  {
   "cell_type": "code",
   "execution_count": 5,
   "metadata": {},
   "outputs": [
    {
     "name": "stderr",
     "output_type": "stream",
     "text": [
      "C:\\Users\\elgab\\anaconda3\\lib\\site-packages\\seaborn\\distributions.py:2551: FutureWarning: `distplot` is a deprecated function and will be removed in a future version. Please adapt your code to use either `displot` (a figure-level function with similar flexibility) or `kdeplot` (an axes-level function for kernel density plots).\n",
      "  warnings.warn(msg, FutureWarning)\n"
     ]
    },
    {
     "data": {
      "image/png": "[encoded data removed]",
      "text/plain": [
       "<Figure size 432x288 with 1 Axes>"
      ]
     },
     "metadata": {
      "needs_background": "light"
     },
     "output_type": "display_data"
    }
   ],
   "source": [
    "from numpy import random\n",
    "import matplotlib.pyplot as plt\n",
    "import seaborn as sns\n",
    "\n",
    "sns.distplot(random.normal(size=1000), hist=False)\n",
    "\n",
    "plt.show()"
   ]
  },
  {
   "cell_type": "markdown",
   "metadata": {},
   "source": [
    "### DISTRIBUCIÓN BINOMIAL\n",
    "\n",
    "Muy buena web: https://www.statology.org/binomial-distribution-python/ \n",
    "\n",
    "It describes the outcome of binary scenarios, e.g. toss of a coin, it will either be head or tails. Tres parámetros:\n",
    "\n",
    "- n: nº de intentos\n",
    "- p: probabilidad de cada caso\n",
    "- size: cantidad de experimentos\n",
    "\n",
    "\n",
    "Nota:\n",
    "- Distribución discreta (binomial): la distribución está definida por eventos separados (caras o cruces).\n",
    "- Distribución continua (normal): e. g. la altura de una persona; 170, 170.1, 170.11, etc etc."
   ]
  },
  {
   "cell_type": "code",
   "execution_count": 3,
   "metadata": {},
   "outputs": [
    {
     "data": {
      "image/png": "[encoded data removed]",
      "text/plain": [
       "<Figure size 432x288 with 1 Axes>"
      ]
     },
     "metadata": {
      "needs_background": "light"
     },
     "output_type": "display_data"
    }
   ],
   "source": [
    "from numpy import random\n",
    "import matplotlib.pyplot as plt\n",
    "import seaborn as sns\n",
    "\n",
    "x = random.binomial(n=10, p=0.5, size=1000) #así se crea una distribución binomial aleatoria\n",
    "\n",
    "sns.distplot(x, hist=True, kde=False) #representación\n",
    "\n",
    "plt.show()"
   ]
  },
  {
   "cell_type": "markdown",
   "metadata": {},
   "source": [
    "**Explicación parámetros n, p, size:**\n",
    "\n",
    "Diferencia entre intento y experimento: \n",
    "  - Intento = (P), es decir, el espectro de posibles (p. ej. cuántas veces saldrá cara o cruz si tiro la moneda 10 veces)\n",
    "  - Experimento = número de veces que se realizará una prueba (p. ej. hacer 1000 veces el experimento de tirar la moneda 10 veces para ver cuántos éxitos y fracasos hay)\n",
    "\n",
    "    El eje de las X equivale al número de éxitos que se han conseguido en 10 intentos.\n",
    "    El eje de las Y equivale al número de veces que ha salido X número de éxitos de 10 intentos (éxitos/intentos) durante \n",
    "    1000 experimentos.\n",
    "    \n",
    "Por ende, n = intentos, size = experimentos y p es la probabilidad de éxito (en cara o cruz es 0.5)"
   ]
  },
  {
   "cell_type": "markdown",
   "metadata": {},
   "source": [
    "### POISSON DISTRIBUTION\n",
    "\n",
    "Explicación de la distribución de poisson: https://www.statology.org/poisson-distribution/\n",
    "\n",
    "Poisson Distribution is a Discrete Distribution.\n",
    "\n",
    "It estimates how many times an event can happen in a specified time. For example, suppose a particular hospital experiences an average of 10 births per hour. What is the probability that more than 12 births occur in a given hour? What is the probability that less than 5 births occur in a given hour? Etc."
   ]
  },
  {
   "cell_type": "markdown",
   "metadata": {},
   "source": [
    "Sigamos el siguiente ejemplo:\n",
    "\n",
    "suppose a particular hospital experiences an average of 2 births per hour. We can use the formula above to determine the probability of experiencing 0, 1, 2, 3 births, etc. in a given hour:"
   ]
  },
  {
   "cell_type": "code",
   "execution_count": 4,
   "metadata": {},
   "outputs": [
    {
     "data": {
      "image/png": "[encoded data removed]",
      "text/plain": [
       "<Figure size 432x288 with 1 Axes>"
      ]
     },
     "metadata": {
      "needs_background": "light"
     },
     "output_type": "display_data"
    }
   ],
   "source": [
    "from numpy import random\n",
    "import matplotlib.pyplot as plt\n",
    "import seaborn as sns\n",
    "\n",
    "x = random.poisson(lam=2, size=1000)\n",
    "\n",
    "sns.distplot(x, kde=False)\n",
    "\n",
    "plt.show()"
   ]
  },
  {
   "cell_type": "markdown",
   "metadata": {},
   "source": [
    "La probabilidad de cada evento (0, 1, 2, 3... nacimientos) es la siguiente:\n",
    "\n",
    "- 0 nacimientos = 140 / 1000 = 0.14\n",
    "- 1 nacimiento = 270 / 1000 = 0.27\n",
    "- 2 nacimientos = 300 / 1000 = 0.3\n",
    "- Etc.\n",
    "\n",
    "Nota: CREO que esta distribución también sirve para saber las probabilidades dada una serie de sucesos conocidos (sin saber la media???), p. ej. acaban de nacer 2 bebés en este hospital, ¿nacerá otro?"
   ]
  },
  {
   "cell_type": "markdown",
   "metadata": {},
   "source": [
    "Los parámetros utilizados para la función son los siguientes:\n",
    "\n",
    "- lam = rate or known number of occurences e.g. 2 for above problem.\n",
    "- size = The shape of the returned array. A.K.A. número de experimentos."
   ]
  },
  {
   "cell_type": "markdown",
   "metadata": {},
   "source": [
    "### UNIFORM DISTRIBUTION\n",
    "\n",
    "Used to describe probability where every event has equal chances of occuring. (E.g. Generation of random numbers)\n",
    "\n",
    "It has three parameters:\n",
    "\n",
    "- a - lower bound - default 0 .0.\n",
    "\n",
    "- b - upper bound - default 1.0.\n",
    "\n",
    "- size - The shape of the returned array."
   ]
  },
  {
   "cell_type": "code",
   "execution_count": 2,
   "metadata": {},
   "outputs": [
    {
     "name": "stderr",
     "output_type": "stream",
     "text": [
      "C:\\Users\\elgab\\anaconda3\\lib\\site-packages\\seaborn\\distributions.py:2551: FutureWarning: `distplot` is a deprecated function and will be removed in a future version. Please adapt your code to use either `displot` (a figure-level function with similar flexibility) or `kdeplot` (an axes-level function for kernel density plots).\n",
      "  warnings.warn(msg, FutureWarning)\n"
     ]
    },
    {
     "data": {
      "image/png": "[encoded data removed]",
      "text/plain": [
       "<Figure size 432x288 with 1 Axes>"
      ]
     },
     "metadata": {
      "needs_background": "light"
     },
     "output_type": "display_data"
    }
   ],
   "source": [
    "from numpy import random\n",
    "import matplotlib.pyplot as plt\n",
    "import seaborn as sns\n",
    "\n",
    "x = random.uniform(size=1000)\n",
    "sns.distplot(x, hist=False)\n",
    "\n",
    "plt.show()"
   ]
  },
  {
   "cell_type": "markdown",
   "metadata": {},
   "source": [
    "## LOGISTIC DISTRIBUTION\n",
    "\n"
   ]
  },
  {
   "cell_type": "markdown",
   "metadata": {},
   "source": [
    "# UFUNCS"
   ]
  },
  {
   "cell_type": "markdown",
   "metadata": {},
   "source": [
    "## Aritmética simple:\n",
    "\n",
    "https://www.w3schools.com/python/numpy/numpy_ufunc_simple_arithmetic.asp\n",
    "\n",
    "- **np.add()**: sums the content of two arrays, and return the results in a new array.\n",
    "- **np.subtract()**: resta.\n",
    "- **np.multiply()**\n",
    "- **np.divide()**\n",
    "- **np.power()**: rises the values from the first array to the power of the values of the second array, and return the results in a new array.\n",
    "- **np.mod() // np.remainder()**: retorna el módulo.\n",
    "- **np.divmod()**: retorna el cociente (resultado de una división 10/3=3) y el módulo(1)\n",
    "- **np.absolute()**: retorna el valor absoluto"
   ]
  },
  {
   "cell_type": "markdown",
   "metadata": {},
   "source": [
    "## Rounding Decimals:"
   ]
  },
  {
   "cell_type": "markdown",
   "metadata": {},
   "source": [
    "- **Truncation**: elimina los decimales y retorna un int: **np.trunc() // np.fix()**\n",
    "- **rounding**: redondea los decimales y le puedes pasar el número de decimales como parámetro. **np.around()**\n",
    "- **floor**: redondea abajo y retorna un float  **np.floor()**\n",
    "- **ceil**: redondea arriba y retorna float **np.ceil()**"
   ]
  },
  {
   "cell_type": "markdown",
   "metadata": {},
   "source": [
    "# EXTRA\n",
    "\n",
    "- transpose() // .transpose() // .T  (https://realpython.com/numpy-scipy-pandas-correlation-python/)"
   ]
  }
 ],
 "metadata": {
  "kernelspec": {
   "display_name": "Python 3",
   "language": "python",
   "name": "python3"
  },
  "language_info": {
   "codemirror_mode": {
    "name": "ipython",
    "version": 3
   },
   "file_extension": ".py",
   "mimetype": "text/x-python",
   "name": "python",
   "nbconvert_exporter": "python",
   "pygments_lexer": "ipython3",
   "version": "3.8.8"
  }
 },
 "nbformat": 4,
 "nbformat_minor": 4
}
